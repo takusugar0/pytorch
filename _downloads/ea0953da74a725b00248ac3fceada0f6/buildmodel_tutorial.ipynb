{
  "nbformat": 4,
  "nbformat_minor": 0,
  "metadata": {
    "kernelspec": {
      "display_name": "Python 3",
      "language": "python",
      "name": "python3"
    },
    "language_info": {
      "codemirror_mode": {
        "name": "ipython",
        "version": 3
      },
      "file_extension": ".py",
      "mimetype": "text/x-python",
      "name": "python",
      "nbconvert_exporter": "python",
      "pygments_lexer": "ipython3",
      "version": "3.6.12"
    },
    "colab": {
      "name": "buildmodel_tutorial.ipynb",
      "provenance": [],
      "include_colab_link": true
    }
  },
  "cells": [
    {
      "cell_type": "markdown",
      "metadata": {
        "id": "view-in-github",
        "colab_type": "text"
      },
      "source": [
        "<a href=\"https://colab.research.google.com/github/takusugar0/pytorch/blob/main/_downloads/ea0953da74a725b00248ac3fceada0f6/buildmodel_tutorial.ipynb\" target=\"_parent\"><img src=\"https://colab.research.google.com/assets/colab-badge.svg\" alt=\"Open In Colab\"/></a>"
      ]
    },
    {
      "cell_type": "code",
      "metadata": {
        "id": "1ZZ00biXbgtm"
      },
      "source": [
        "%matplotlib inline"
      ],
      "execution_count": 2,
      "outputs": []
    },
    {
      "cell_type": "markdown",
      "metadata": {
        "id": "To6CKoogbgt0"
      },
      "source": [
        "\n",
        "`Learn the Basics <intro.html>`_ ||\n",
        "`Quickstart <quickstart_tutorial.html>`_ || \n",
        "`Tensors <tensorqs_tutorial.html>`_ ||\n",
        "`Datasets & DataLoaders <data_tutorial.html>`_ ||\n",
        "`Transforms <transforms_tutorial.html>`_ ||\n",
        "**Build Model** ||\n",
        "`Autograd <autogradqs_tutorial.html>`_ ||\n",
        "`Optimization <optimization_tutorial.html>`_ ||\n",
        "`Save & Load Model <saveloadrun_tutorial.html>`_\n",
        "\n",
        "Build the Neural Network\n",
        "===================\n",
        "\n",
        "Neural networks comprise of layers/modules that perform operations on data. \n",
        "The `torch.nn <https://pytorch.org/docs/stable/nn.html>`_ namespace provides all the building blocks you need to \n",
        "build your own neural network. Every module in PyTorch subclasses the `nn.Module <https://pytorch.org/docs/stable/generated/torch.nn.Module.html>`_. \n",
        "A neural network is a module itself that consists of other modules (layers). This nested structure allows for\n",
        "building and managing complex architectures easily.\n",
        "\n",
        "In the following sections, we'll build a neural network to classify images in the FashionMNIST dataset.\n",
        "\n",
        "\n"
      ]
    },
    {
      "cell_type": "code",
      "metadata": {
        "id": "1zaRCtFAbgt2"
      },
      "source": [
        "import os\n",
        "import torch\n",
        "from torch import nn\n",
        "from torch.utils.data import DataLoader\n",
        "from torchvision import datasets, transforms"
      ],
      "execution_count": 3,
      "outputs": []
    },
    {
      "cell_type": "markdown",
      "metadata": {
        "id": "WoU6oRpYbgt3"
      },
      "source": [
        "Get Device for Training\n",
        "-----------------------\n",
        "We want to be able to train our model on a hardware accelerator like the GPU, \n",
        "if it is available. Let's check to see if \n",
        "`torch.cuda <https://pytorch.org/docs/stable/notes/cuda.html>`_ is available, else we \n",
        "continue to use the CPU. \n",
        "\n"
      ]
    },
    {
      "cell_type": "code",
      "metadata": {
        "id": "1ssGl-uZbgt3",
        "outputId": "63d12c89-4231-43fc-a3f5-6df89209bb55",
        "colab": {
          "base_uri": "https://localhost:8080/"
        }
      },
      "source": [
        "device = 'cuda' if torch.cuda.is_available() else 'cpu'\n",
        "print('Using {} device'.format(device))"
      ],
      "execution_count": 4,
      "outputs": [
        {
          "output_type": "stream",
          "text": [
            "Using cpu device\n"
          ],
          "name": "stdout"
        }
      ]
    },
    {
      "cell_type": "markdown",
      "metadata": {
        "id": "QucSrs-8bgt4"
      },
      "source": [
        "Define the Class\n",
        "-------------------------\n",
        "We define our neural network by subclassing ``nn.Module``, and \n",
        "initialize the neural network layers in ``__init__``. Every ``nn.Module`` subclass implements\n",
        "the operations on input data in the ``forward`` method. \n",
        "\n"
      ]
    },
    {
      "cell_type": "code",
      "metadata": {
        "id": "YuWrQ7R7bgt4"
      },
      "source": [
        "class NeuralNetwork(nn.Module):\n",
        "    def __init__(self):\n",
        "        super(NeuralNetwork, self).__init__()\n",
        "        self.flatten = nn.Flatten()\n",
        "        self.linear_relu_stack = nn.Sequential(\n",
        "            nn.Linear(28*28, 512),\n",
        "            nn.ReLU(),\n",
        "            nn.Linear(512, 512),\n",
        "            nn.ReLU(),\n",
        "            nn.Linear(512, 10),\n",
        "            nn.ReLU()\n",
        "        )\n",
        "\n",
        "    def forward(self, x):\n",
        "        #flattenでinputを一次元ベクトルに変換\n",
        "        x = self.flatten(x)\n",
        "        logits = self.linear_relu_stack(x)\n",
        "        return logits"
      ],
      "execution_count": 5,
      "outputs": []
    },
    {
      "cell_type": "markdown",
      "metadata": {
        "id": "4WqKgFI4bgt5"
      },
      "source": [
        "We create an instance of ``NeuralNetwork``, and move it to the ``device``, and print \n",
        "its structure.\n",
        "\n"
      ]
    },
    {
      "cell_type": "code",
      "metadata": {
        "id": "j12vKEV2bgt6",
        "outputId": "2b78b9d7-f847-41d8-a7f5-9398881f087d",
        "colab": {
          "base_uri": "https://localhost:8080/"
        }
      },
      "source": [
        "model = NeuralNetwork().to(device)\n",
        "print(model)"
      ],
      "execution_count": 6,
      "outputs": [
        {
          "output_type": "stream",
          "text": [
            "NeuralNetwork(\n",
            "  (flatten): Flatten(start_dim=1, end_dim=-1)\n",
            "  (linear_relu_stack): Sequential(\n",
            "    (0): Linear(in_features=784, out_features=512, bias=True)\n",
            "    (1): ReLU()\n",
            "    (2): Linear(in_features=512, out_features=512, bias=True)\n",
            "    (3): ReLU()\n",
            "    (4): Linear(in_features=512, out_features=10, bias=True)\n",
            "    (5): ReLU()\n",
            "  )\n",
            ")\n"
          ],
          "name": "stdout"
        }
      ]
    },
    {
      "cell_type": "markdown",
      "metadata": {
        "id": "rjhSQ6cqbgt6"
      },
      "source": [
        "To use the model, we pass it the input data. This executes the model's ``forward``,\n",
        "along with some `background operations <https://github.com/pytorch/pytorch/blob/270111b7b611d174967ed204776985cefca9c144/torch/nn/modules/module.py#L866>`_. \n",
        "Do not call ``model.forward()`` directly!\n",
        "\n",
        "Calling the model on the input returns a 10-dimensional tensor with raw predicted values for each class.\n",
        "We get the prediction probabilities by passing it through an instance of the ``nn.Softmax`` module.\n",
        "\n"
      ]
    },
    {
      "cell_type": "code",
      "metadata": {
        "id": "9VUmpC2wbgt7",
        "outputId": "1793bb79-51fa-4511-b212-f06f8d76437c",
        "colab": {
          "base_uri": "https://localhost:8080/"
        }
      },
      "source": [
        "X = torch.rand(1, 28, 28, device=device)\n",
        "logits = model(X) \n",
        "pred_probab = nn.Softmax(dim=1)(logits)\n",
        "print(pred_probab.shape)\n",
        "#列方向において、max値のindexを取る\n",
        "y_pred = pred_probab.argmax(1)\n",
        "print(f\"Predicted class: {y_pred}\")"
      ],
      "execution_count": 21,
      "outputs": [
        {
          "output_type": "stream",
          "text": [
            "torch.Size([1, 10])\n",
            "Predicted class: tensor([9])\n"
          ],
          "name": "stdout"
        }
      ]
    },
    {
      "cell_type": "markdown",
      "metadata": {
        "id": "fgufcukobgt7"
      },
      "source": [
        "--------------\n",
        "\n",
        "\n"
      ]
    },
    {
      "cell_type": "markdown",
      "metadata": {
        "id": "NkWp-ls3bgt8"
      },
      "source": [
        "Model Layers\n",
        "-------------------------\n",
        "\n",
        "Lets break down the layers in the FashionMNIST model. To illustrate it, we \n",
        "will take a sample minibatch of 3 images of size 28x28 and see what happens to it as \n",
        "we pass it through the network. \n",
        "\n"
      ]
    },
    {
      "cell_type": "code",
      "metadata": {
        "id": "YMyAPoiUbgt8",
        "outputId": "bd09e76d-356e-49c7-df3a-7ddd245a47ab",
        "colab": {
          "base_uri": "https://localhost:8080/"
        }
      },
      "source": [
        "input_image = torch.rand(3,28,28)\n",
        "print(input_image.size())"
      ],
      "execution_count": 23,
      "outputs": [
        {
          "output_type": "stream",
          "text": [
            "torch.Size([3, 28, 28])\n"
          ],
          "name": "stdout"
        }
      ]
    },
    {
      "cell_type": "markdown",
      "metadata": {
        "id": "yghMoOz9bgt8"
      },
      "source": [
        "nn.Flatten\n",
        "^^^^^^^^^^^^^^^^^^^^^^\n",
        "We initialize the `nn.Flatten  <https://pytorch.org/docs/stable/generated/torch.nn.Flatten.html>`_ \n",
        "layer to convert each 2D 28x28 image into a contiguous array of 784 pixel values (\n",
        "the minibatch dimension (at dim=0) is maintained).\n",
        "\n"
      ]
    },
    {
      "cell_type": "code",
      "metadata": {
        "id": "PETIdHf6bgt9",
        "outputId": "efc52c10-9424-46c8-9fe7-e645fdedfdbb",
        "colab": {
          "base_uri": "https://localhost:8080/"
        }
      },
      "source": [
        "flatten = nn.Flatten()\n",
        "flat_image = flatten(input_image)\n",
        "print(flat_image.size())"
      ],
      "execution_count": 25,
      "outputs": [
        {
          "output_type": "stream",
          "text": [
            "torch.Size([3, 784])\n"
          ],
          "name": "stdout"
        }
      ]
    },
    {
      "cell_type": "markdown",
      "metadata": {
        "id": "bcMZoX8fbgt9"
      },
      "source": [
        "nn.Linear \n",
        "^^^^^^^^^^^^^^^^^^^^^^\n",
        "The `linear layer <https://pytorch.org/docs/stable/generated/torch.nn.Linear.html>`_\n",
        "is a module that applies a linear transformation on the input using its stored weights and biases.\n",
        "\n",
        "\n"
      ]
    },
    {
      "cell_type": "code",
      "metadata": {
        "id": "sutc-1rmbgt9",
        "outputId": "2291999d-5c02-454d-f701-c6b49b290c3b",
        "colab": {
          "base_uri": "https://localhost:8080/"
        }
      },
      "source": [
        "layer1 = nn.Linear(in_features=28*28, out_features=20)\n",
        "hidden1 = layer1(flat_image)\n",
        "print(hidden1.size())"
      ],
      "execution_count": 27,
      "outputs": [
        {
          "output_type": "stream",
          "text": [
            "torch.Size([3, 20])\n"
          ],
          "name": "stdout"
        }
      ]
    },
    {
      "cell_type": "markdown",
      "metadata": {
        "id": "5yJ2xiigbgt-"
      },
      "source": [
        "nn.ReLU\n",
        "^^^^^^^^^^^^^^^^^^^^^^\n",
        "Non-linear activations are what create the complex mappings between the model's inputs and outputs.\n",
        "They are applied after linear transformations to introduce *nonlinearity*, helping neural networks\n",
        "learn a wide variety of phenomena.\n",
        "\n",
        "In this model, we use `nn.ReLU <https://pytorch.org/docs/stable/generated/torch.nn.ReLU.html>`_ between our\n",
        "linear layers, but there's other activations to introduce non-linearity in your model.\n",
        "\n"
      ]
    },
    {
      "cell_type": "code",
      "metadata": {
        "id": "j4mNxbp4bgt-"
      },
      "source": [
        "print(f\"Before ReLU: {hidden1}\\n\\n\")\n",
        "hidden1 = nn.ReLU()(hidden1)\n",
        "print(f\"After ReLU: {hidden1}\")"
      ],
      "execution_count": null,
      "outputs": []
    },
    {
      "cell_type": "markdown",
      "metadata": {
        "id": "vnThqDXRbgt_"
      },
      "source": [
        "nn.Sequential\n",
        "^^^^^^^^^^^^^^^^^^^^^^\n",
        "`nn.Sequential <https://pytorch.org/docs/stable/generated/torch.nn.Sequential.html>`_ is an ordered \n",
        "container of modules. The data is passed through all the modules in the same order as defined. You can use\n",
        "sequential containers to put together a quick network like ``seq_modules``.\n",
        "\n"
      ]
    },
    {
      "cell_type": "code",
      "metadata": {
        "id": "ocaXhvkwbgt_",
        "outputId": "b83dcffe-7efb-465b-b700-e1a31c888e23",
        "colab": {
          "base_uri": "https://localhost:8080/"
        }
      },
      "source": [
        "seq_modules = nn.Sequential(\n",
        "    flatten,\n",
        "    layer1,\n",
        "    nn.ReLU(),\n",
        "    nn.Linear(20, 10)\n",
        ")\n",
        "input_image = torch.rand(3,28,28)\n",
        "logits = seq_modules(input_image)"
      ],
      "execution_count": 29,
      "outputs": [
        {
          "output_type": "stream",
          "text": [
            "tensor([[-0.2174,  0.0851, -0.1624,  0.2923, -0.3329, -0.0550,  0.1145,  0.3017,\n",
            "         -0.0490, -0.2147],\n",
            "        [-0.0972,  0.2479, -0.1045,  0.1690, -0.3905,  0.1362,  0.1719,  0.1584,\n",
            "         -0.0741, -0.0422],\n",
            "        [-0.3600,  0.2074, -0.2020,  0.2406, -0.4283,  0.0509, -0.0060,  0.3219,\n",
            "         -0.0504, -0.1296]], grad_fn=<AddmmBackward>)\n"
          ],
          "name": "stdout"
        }
      ]
    },
    {
      "cell_type": "markdown",
      "metadata": {
        "id": "MZm-iJrlbgt_"
      },
      "source": [
        "nn.Softmax\n",
        "^^^^^^^^^^^^^^^^^^^^^^\n",
        "The last linear layer of the neural network returns `logits` - raw values in [-\\infty, \\infty] - which are passed to the\n",
        "`nn.Softmax <https://pytorch.org/docs/stable/generated/torch.nn.Softmax.html>`_ module. The logits are scaled to values \n",
        "[0, 1] representing the model's predicted probabilities for each class. ``dim`` parameter indicates the dimension along \n",
        "which the values must sum to 1. \n",
        "\n"
      ]
    },
    {
      "cell_type": "code",
      "metadata": {
        "id": "I-LKBKs0bguA",
        "outputId": "fb2bbca4-8751-4238-e959-1ad312a8ceb1",
        "colab": {
          "base_uri": "https://localhost:8080/"
        }
      },
      "source": [
        "softmax = nn.Softmax(dim=1)\n",
        "pred_probab = softmax(logits)\n",
        "print(pred_probab)"
      ],
      "execution_count": 38,
      "outputs": [
        {
          "output_type": "stream",
          "text": [
            "tensor([[0.0806, 0.1091, 0.0852, 0.1342, 0.0718, 0.0949, 0.1124, 0.1355, 0.0954,\n",
            "         0.0809],\n",
            "        [0.0877, 0.1239, 0.0871, 0.1145, 0.0654, 0.1108, 0.1148, 0.1133, 0.0898,\n",
            "         0.0927],\n",
            "        [0.0703, 0.1240, 0.0823, 0.1282, 0.0657, 0.1060, 0.1002, 0.1390, 0.0958,\n",
            "         0.0885]], grad_fn=<SoftmaxBackward>)\n"
          ],
          "name": "stdout"
        }
      ]
    },
    {
      "cell_type": "markdown",
      "metadata": {
        "id": "WDQSFFtfbguA"
      },
      "source": [
        "Model Parameters\n",
        "-------------------------\n",
        "Many layers inside a neural network are *parameterized*, i.e. have associated weights \n",
        "and biases that are optimized during training. Subclassing ``nn.Module`` automatically \n",
        "tracks all fields defined inside your model object, and makes all parameters \n",
        "accessible using your model's ``parameters()`` or ``named_parameters()`` methods. \n",
        "\n",
        "In this example, we iterate over each parameter, and print its size and a preview of its values. \n",
        "\n",
        "\n"
      ]
    },
    {
      "cell_type": "code",
      "metadata": {
        "id": "hQAIi77RbguA",
        "outputId": "21177c2e-d9b7-4db7-8f33-5566bae239ea",
        "colab": {
          "base_uri": "https://localhost:8080/"
        }
      },
      "source": [
        "print(\"Model structure: \", model, \"\\n\\n\")\n",
        "\n",
        "for name, param in model.named_parameters():\n",
        "    print(f\"Layer: {name} | Size: {param.size()} | Values : {param[:2]} \\n\")"
      ],
      "execution_count": 39,
      "outputs": [
        {
          "output_type": "stream",
          "text": [
            "Model structure:  NeuralNetwork(\n",
            "  (flatten): Flatten(start_dim=1, end_dim=-1)\n",
            "  (linear_relu_stack): Sequential(\n",
            "    (0): Linear(in_features=784, out_features=512, bias=True)\n",
            "    (1): ReLU()\n",
            "    (2): Linear(in_features=512, out_features=512, bias=True)\n",
            "    (3): ReLU()\n",
            "    (4): Linear(in_features=512, out_features=10, bias=True)\n",
            "    (5): ReLU()\n",
            "  )\n",
            ") \n",
            "\n",
            "\n",
            "Layer: linear_relu_stack.0.weight | Size: torch.Size([512, 784]) | Values : tensor([[ 0.0215,  0.0312,  0.0059,  ...,  0.0104, -0.0210,  0.0128],\n",
            "        [-0.0160, -0.0336,  0.0300,  ..., -0.0338, -0.0195,  0.0194]],\n",
            "       grad_fn=<SliceBackward>) \n",
            "\n",
            "Layer: linear_relu_stack.0.bias | Size: torch.Size([512]) | Values : tensor([-0.0092, -0.0051], grad_fn=<SliceBackward>) \n",
            "\n",
            "Layer: linear_relu_stack.2.weight | Size: torch.Size([512, 512]) | Values : tensor([[ 0.0278, -0.0345,  0.0002,  ..., -0.0265, -0.0052, -0.0160],\n",
            "        [ 0.0408,  0.0180,  0.0298,  ..., -0.0025, -0.0294,  0.0185]],\n",
            "       grad_fn=<SliceBackward>) \n",
            "\n",
            "Layer: linear_relu_stack.2.bias | Size: torch.Size([512]) | Values : tensor([-0.0250,  0.0363], grad_fn=<SliceBackward>) \n",
            "\n",
            "Layer: linear_relu_stack.4.weight | Size: torch.Size([10, 512]) | Values : tensor([[ 0.0252, -0.0341, -0.0420,  ...,  0.0285, -0.0047,  0.0415],\n",
            "        [-0.0011,  0.0182,  0.0284,  ..., -0.0011, -0.0127, -0.0422]],\n",
            "       grad_fn=<SliceBackward>) \n",
            "\n",
            "Layer: linear_relu_stack.4.bias | Size: torch.Size([10]) | Values : tensor([0.0157, 0.0014], grad_fn=<SliceBackward>) \n",
            "\n"
          ],
          "name": "stdout"
        }
      ]
    },
    {
      "cell_type": "markdown",
      "metadata": {
        "id": "70ttKOV_bguB"
      },
      "source": [
        "--------------\n",
        "\n",
        "\n"
      ]
    },
    {
      "cell_type": "markdown",
      "metadata": {
        "id": "L4LHSgJFbguB"
      },
      "source": [
        "Further Reading\n",
        "--------------\n",
        "- `torch.nn API <https://pytorch.org/docs/stable/nn.html>`_\n",
        "\n"
      ]
    }
  ]
}